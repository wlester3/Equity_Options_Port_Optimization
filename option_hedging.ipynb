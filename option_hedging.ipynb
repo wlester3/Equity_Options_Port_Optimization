{
 "cells": [
  {
   "cell_type": "markdown",
   "source": [
    "# Hedging With Options\n",
    "\n",
    "If the strike percents are changed, change the regression in hedge_downside function and the headers in returned df"
   ],
   "metadata": {
    "collapsed": false
   },
   "id": "fc619d658b642fdb"
  },
  {
   "cell_type": "code",
   "execution_count": 1,
   "id": "initial_id",
   "metadata": {
    "collapsed": true,
    "ExecuteTime": {
     "end_time": "2024-04-26T02:40:01.309205Z",
     "start_time": "2024-04-26T02:39:51.606895800Z"
    }
   },
   "outputs": [],
   "source": [
    "import numpy as np, pandas as pd, matplotlib.pyplot as plt\n",
    "import data_functions as dat_func, visualizations as vis\n",
    "import yfinance as yf\n",
    "from datetime import datetime\n",
    "import QuantLib as ql\n",
    "from scipy.optimize import minimize\n",
    "import warnings\n",
    "\n",
    "import patsy\n",
    "import statsmodels.api as sm\n",
    "\n",
    "warnings.simplefilter(action='ignore', category=FutureWarning)\n",
    "warnings.simplefilter(action='ignore', category=RuntimeWarning)"
   ]
  },
  {
   "cell_type": "markdown",
   "source": [
    "# Get stock data"
   ],
   "metadata": {
    "collapsed": false
   },
   "id": "e15aadb89ece3037"
  },
  {
   "cell_type": "code",
   "outputs": [
    {
     "name": "stderr",
     "output_type": "stream",
     "text": [
      "[*********************100%%**********************]  10 of 10 completed\n"
     ]
    }
   ],
   "source": [
    "start_date,end_date=\"2023-04-19\",'2024-04-19'\n",
    "start_date,end_date=pd.to_datetime(start_date),pd.to_datetime(end_date)\n",
    "trade_dates=dat_func.get_trading_days(start_date,end_date)\n",
    "\n",
    "tickers = ['XOM','FI','ATKR','VICI','STLD','GOOG','BN','BKNG','SBUX','NKE']\n",
    "ex_stock='XOM'\n",
    "stock_df=dat_func.get_price_df(tickers,start_date,end_date)\n",
    "returns_df=dat_func.get_log_returns(stock_df)"
   ],
   "metadata": {
    "collapsed": false,
    "ExecuteTime": {
     "end_time": "2024-04-26T02:44:37.485262800Z",
     "start_time": "2024-04-26T02:44:37.180938800Z"
    }
   },
   "id": "adc3afd74c0214f1",
   "execution_count": 6
  },
  {
   "cell_type": "code",
   "outputs": [],
   "source": [
    "# Option Pricing\n",
    "def price_option(S0,vol,strike,risk_free_rate,expire,call=True):\n",
    "        if call:\n",
    "            option = ql.EuropeanOption( ql.PlainVanillaPayoff(ql.Option.Call, strike),\n",
    "                         ql.EuropeanExercise(expire))\n",
    "        else:\n",
    "            option = ql.EuropeanOption( ql.PlainVanillaPayoff(ql.Option.Put, strike),\n",
    "                         ql.EuropeanExercise(expire))\n",
    "        u = ql.SimpleQuote(S0)      # set todays value of the underlying\n",
    "        r = ql.SimpleQuote(risk_free_rate)       # set risk-free rate \n",
    "        sigma = ql.SimpleQuote(vol)   # set volatility\n",
    "        riskFreeCurve = ql.FlatForward(0, ql.TARGET(), ql.QuoteHandle(r), ql.Actual360())\n",
    "        volatility = ql.BlackConstantVol(0, ql.TARGET(), ql.QuoteHandle(sigma), ql.Actual360())\n",
    "        # The Model\n",
    "        process = ql.BlackScholesProcess( ql.QuoteHandle(u), \n",
    "                                       ql.YieldTermStructureHandle(riskFreeCurve),\n",
    "                                       ql.BlackVolTermStructureHandle(volatility))\n",
    "        engine = ql.AnalyticEuropeanEngine(process)\n",
    "        # The Result\n",
    "        option.setPricingEngine(engine)\n",
    "        return option.NPV()"
   ],
   "metadata": {
    "collapsed": false,
    "ExecuteTime": {
     "end_time": "2024-04-26T02:44:38.293829200Z",
     "start_time": "2024-04-26T02:44:38.281562700Z"
    }
   },
   "id": "1e60b484897d0e19",
   "execution_count": 7
  },
  {
   "cell_type": "code",
   "outputs": [],
   "source": [
    "# Get df of option prices\n",
    "def create_options(stock_df, stocks, strike_pcts,risk_free_rate, today,expire):\n",
    "    \"\"\"\n",
    "    Returns price of 1 option on the stock \n",
    "    \"\"\"\n",
    "    dfs_to_concat = []\n",
    "    ql.Settings.instance().evaluationDate = today\n",
    "    for stock in stocks:\n",
    "        S0 = stock_df[stock][-1]\n",
    "        vol=returns_df.std()[ex_stock]*np.sqrt(252)\n",
    "        \n",
    "        strikes = [pct * S0 for pct in strike_pcts]\n",
    "        #strikes = [S0*0.9, S0, S0*1.1]\n",
    "        \n",
    "        price_at_strike = []\n",
    "        \n",
    "        for strike in strikes:\n",
    "            call = price_option(S0,vol,strike,risk_free_rate,expire,call=True)\n",
    "            price_at_strike.append(call)\n",
    "            put = price_option(S0,vol,strike,risk_free_rate,expire,call=False)\n",
    "            price_at_strike.append(put)\n",
    "        \n",
    "        df_row = pd.DataFrame({\n",
    "                'Ticker': [stock],\n",
    "                'call_90_pct': [price_at_strike[0]],\n",
    "                'call_atm': [price_at_strike[2]],\n",
    "                'call_110_pct': [price_at_strike[4]],\n",
    "                'put_90_pct': [price_at_strike[1]],\n",
    "                'put_atm': [price_at_strike[3]],\n",
    "                'put_110_pct': [price_at_strike[5]],\n",
    "            })\n",
    "            \n",
    "        dfs_to_concat.append(df_row)\n",
    "    \n",
    "    output = pd.concat(dfs_to_concat, ignore_index=True)  \n",
    "    return output"
   ],
   "metadata": {
    "collapsed": false,
    "ExecuteTime": {
     "end_time": "2024-04-26T02:53:25.367050300Z",
     "start_time": "2024-04-26T02:53:25.362801400Z"
    }
   },
   "id": "9f40dbb24132ca32",
   "execution_count": 31
  },
  {
   "cell_type": "markdown",
   "source": [
    "## Get option prices for tickers"
   ],
   "metadata": {
    "collapsed": false
   },
   "id": "5034becd3a9e361e"
  },
  {
   "cell_type": "code",
   "outputs": [
    {
     "data": {
      "text/plain": "  Ticker  call_90_pct    call_atm  call_110_pct  put_90_pct     put_atm  \\\n0    XOM    19.815406   12.696875      7.623097    3.506119    7.744333   \n1     FI    24.561943   15.738255      9.449116    4.345966    9.599392   \n2   ATKR    28.619652   18.338264     11.010139    5.063933   11.185242   \n3   VICI     4.601080    2.948178      1.770061    0.814111    1.798212   \n4   STLD    22.749600   14.576982      8.751897    4.025292    8.891085   \n5   GOOG    26.325802   16.868462     10.127682    4.658062   10.288751   \n6     BN     6.450206    4.133020      2.481430    1.141293    2.520894   \n7   BKNG   573.486480  367.465902    220.623431  101.472137  224.132176   \n8   SBUX    14.570644    9.336253      5.605408    2.578116    5.694555   \n9    NKE    16.006809   10.256487      6.157908    2.832229    6.255842   \n\n   put_110_pct  \n0    14.027300  \n1    17.387367  \n2    20.259814  \n3     3.257098  \n4    16.104412  \n5    18.636001  \n6     4.566092  \n7   405.970321  \n8    10.314540  \n9    11.331199  ",
      "text/html": "<div>\n<style scoped>\n    .dataframe tbody tr th:only-of-type {\n        vertical-align: middle;\n    }\n\n    .dataframe tbody tr th {\n        vertical-align: top;\n    }\n\n    .dataframe thead th {\n        text-align: right;\n    }\n</style>\n<table border=\"1\" class=\"dataframe\">\n  <thead>\n    <tr style=\"text-align: right;\">\n      <th></th>\n      <th>Ticker</th>\n      <th>call_90_pct</th>\n      <th>call_atm</th>\n      <th>call_110_pct</th>\n      <th>put_90_pct</th>\n      <th>put_atm</th>\n      <th>put_110_pct</th>\n    </tr>\n  </thead>\n  <tbody>\n    <tr>\n      <th>0</th>\n      <td>XOM</td>\n      <td>19.815406</td>\n      <td>12.696875</td>\n      <td>7.623097</td>\n      <td>3.506119</td>\n      <td>7.744333</td>\n      <td>14.027300</td>\n    </tr>\n    <tr>\n      <th>1</th>\n      <td>FI</td>\n      <td>24.561943</td>\n      <td>15.738255</td>\n      <td>9.449116</td>\n      <td>4.345966</td>\n      <td>9.599392</td>\n      <td>17.387367</td>\n    </tr>\n    <tr>\n      <th>2</th>\n      <td>ATKR</td>\n      <td>28.619652</td>\n      <td>18.338264</td>\n      <td>11.010139</td>\n      <td>5.063933</td>\n      <td>11.185242</td>\n      <td>20.259814</td>\n    </tr>\n    <tr>\n      <th>3</th>\n      <td>VICI</td>\n      <td>4.601080</td>\n      <td>2.948178</td>\n      <td>1.770061</td>\n      <td>0.814111</td>\n      <td>1.798212</td>\n      <td>3.257098</td>\n    </tr>\n    <tr>\n      <th>4</th>\n      <td>STLD</td>\n      <td>22.749600</td>\n      <td>14.576982</td>\n      <td>8.751897</td>\n      <td>4.025292</td>\n      <td>8.891085</td>\n      <td>16.104412</td>\n    </tr>\n    <tr>\n      <th>5</th>\n      <td>GOOG</td>\n      <td>26.325802</td>\n      <td>16.868462</td>\n      <td>10.127682</td>\n      <td>4.658062</td>\n      <td>10.288751</td>\n      <td>18.636001</td>\n    </tr>\n    <tr>\n      <th>6</th>\n      <td>BN</td>\n      <td>6.450206</td>\n      <td>4.133020</td>\n      <td>2.481430</td>\n      <td>1.141293</td>\n      <td>2.520894</td>\n      <td>4.566092</td>\n    </tr>\n    <tr>\n      <th>7</th>\n      <td>BKNG</td>\n      <td>573.486480</td>\n      <td>367.465902</td>\n      <td>220.623431</td>\n      <td>101.472137</td>\n      <td>224.132176</td>\n      <td>405.970321</td>\n    </tr>\n    <tr>\n      <th>8</th>\n      <td>SBUX</td>\n      <td>14.570644</td>\n      <td>9.336253</td>\n      <td>5.605408</td>\n      <td>2.578116</td>\n      <td>5.694555</td>\n      <td>10.314540</td>\n    </tr>\n    <tr>\n      <th>9</th>\n      <td>NKE</td>\n      <td>16.006809</td>\n      <td>10.256487</td>\n      <td>6.157908</td>\n      <td>2.832229</td>\n      <td>6.255842</td>\n      <td>11.331199</td>\n    </tr>\n  </tbody>\n</table>\n</div>"
     },
     "execution_count": 32,
     "metadata": {},
     "output_type": "execute_result"
    }
   ],
   "source": [
    "tickers = ['XOM','FI','ATKR','VICI','STLD','GOOG','BN','BKNG','SBUX','NKE']\n",
    "fred,poly=dat_func.connect_apis()\n",
    "risk_free_rate=fred.get_series('GS10').iloc[-1]/100\n",
    "today = ql.Date(19, 4, 2024)\n",
    "expire = ql.Date(19, 4, 2025)\n",
    "strike_pcts = [0.9, 1, 1.1]\n",
    "create_options(stock_df, tickers, strike_pcts,risk_free_rate, today,expire)"
   ],
   "metadata": {
    "collapsed": false,
    "ExecuteTime": {
     "end_time": "2024-04-26T02:53:26.689995700Z",
     "start_time": "2024-04-26T02:53:26.374172400Z"
    }
   },
   "id": "a6ba825867e292a3",
   "execution_count": 32
  },
  {
   "cell_type": "markdown",
   "source": [
    "## Get Portfolio Weights"
   ],
   "metadata": {
    "collapsed": false
   },
   "id": "481bb3f352562400"
  },
  {
   "cell_type": "code",
   "outputs": [],
   "source": [
    "returns_df=dat_func.get_log_returns(stock_df)\n",
    "# vis.plot_cumulative_returns(returns_df)\n",
    "init_weights,init_ret,init_std=dat_func.get_init_port(returns_df,risk_free_rate,leverage_limit=1)\n",
    "init_weights=init_weights.round(3)\n",
    "weight_dict = dict(zip(returns_df.columns,init_weights))\n",
    "# print('Initial Port Returns:',init_ret)\n",
    "# print('Initial Port Volatility:',init_std)\n",
    "# print('Initial Port Sharpe:',(init_ret-risk_free_rate)/init_std)\n",
    "# print('Optimal Weights:',dict(zip(returns_df.columns,init_weights)))"
   ],
   "metadata": {
    "collapsed": false,
    "ExecuteTime": {
     "end_time": "2024-04-26T02:53:34.035720Z",
     "start_time": "2024-04-26T02:53:33.984578600Z"
    }
   },
   "id": "4389d0f75ec3bdd4",
   "execution_count": 33
  },
  {
   "cell_type": "markdown",
   "source": [
    "## Hedging"
   ],
   "metadata": {
    "collapsed": false
   },
   "id": "d5c2f964a45d5541"
  },
  {
   "cell_type": "code",
   "outputs": [],
   "source": [
    "def hedge_downside(stock_df, stocks, weights, strike_pcts):\n",
    "    \"\"\"\n",
    "    Returns how many of each put you should but for $1 in the position, taking into account long/short \n",
    "    \"\"\"\n",
    "    option_list = []\n",
    "    for stock in stocks:\n",
    "        long = weight_dict[stock] >0.0  # If we are long the stock\n",
    "        S0 = stock_df[stock][-1]\n",
    "        \n",
    "        gpc_gbm=dat_func.simulate_gbm(stock_df[stock][-1],returns_df.mean()[ex_stock]*252,returns_df.std()[ex_stock]*np.sqrt(252),1,N=100)\n",
    "        \n",
    "        if long:\n",
    "            sim_min = np.min(gpc_gbm[:,-1])  # Get minimum value of stock from sim\n",
    "            max_loss = round(sim_min - S0)\n",
    "            loss = np.linspace(0,max_loss,abs(max_loss)+1)  # max loss to 0 by 1\n",
    "            stock_price = S0 + loss # stock prices for same loss\n",
    "            portfolio_value = pd.DataFrame({'stock':stock_price, 'loss':loss*-1})\n",
    "        else:\n",
    "            sim_max = np.max(gpc_gbm[:,-1])  # Get minimum value of stock from sim\n",
    "            max_loss = round(S0 - sim_max)\n",
    "            loss = np.linspace(0,max_loss,abs(max_loss)+1)  # max loss to 0 by 1\n",
    "            stock_price = S0 - loss  # stock prices for same loss\n",
    "            portfolio_value = pd.DataFrame({'stock':stock_price, 'loss':loss*-1})\n",
    "            \n",
    "        portfolio_value['put_atm'] = np.maximum(S0 - portfolio_value['stock'],0)\n",
    "        portfolio_value['put_90_pct'] = np.maximum(S0 - portfolio_value['stock']*0.9,0)\n",
    "        portfolio_value['put_110_pct'] = np.maximum(S0 - portfolio_value['stock']*1.1,0)\n",
    "        portfolio_value['call_atm'] = np.maximum(portfolio_value['stock']-S0,0)\n",
    "        portfolio_value['call_90_pct'] = np.maximum(portfolio_value['stock']*0.9 - S0,0)\n",
    "        portfolio_value['call_110_pct'] = np.maximum(portfolio_value['stock']*1.1 - S0,0)\n",
    "        \n",
    "        y, X = patsy.dmatrices('loss ~ put_atm + put_90_pct + put_110_pct + call_atm + call_90_pct + call_110_pct', portfolio_value)\n",
    "        linear_model = sm.OLS(y, X)\n",
    "        results = linear_model.fit()\n",
    "        option_list.append([stock] + list(results.params[1:]))\n",
    "        \n",
    "        if stock == 'XOM':\n",
    "            port_val = portfolio_value.copy()\n",
    "            port_val['put_atm'] = port_val['put_atm'] * results.params[1]\n",
    "            port_val['put_90_pct'] = port_val['put_90_pct']* results.params[2]\n",
    "            port_val['put_110_pct'] = port_val['put_110_pct'] * results.params[3]\n",
    "            port_val['call_atm'] = port_val['call_atm'] * results.params[4]\n",
    "            port_val['call_90_pct'] = port_val['call_90_pct'] * results.params[5]\n",
    "            port_val['call_110_pct'] = port_val['call_110_pct'] * results.params[6]\n",
    "            port_val['option_total'] = port_val['put_atm'] + port_val['put_90_pct'] + port_val['put_110_pct'] + port_val['call_atm']\n",
    "            port_val['option_total'] = port_val['option_total'] + port_val['call_90_pct'] + port_val['call_110_pct']\n",
    "            port_val['together'] = port_val['option_total'] + port_val['loss'] * -1\n",
    "            plt.plot(port_val['stock'], port_val['loss'] * -1)\n",
    "            plt.plot(port_val['stock'], port_val['option_total'])\n",
    "            plt.plot(port_val['stock'], port_val['together'])\n",
    "            plt.xlabel('Stock Price')\n",
    "            plt.legend(['Stock Loss', 'Option Gain', 'together'])\n",
    "\n",
    "    df = pd.DataFrame(option_list, columns=['Ticker', 'put_atm', 'put_90_pct', 'put_110_pct', 'call_atm', 'call_90_pct', 'call_110_pct'])\n",
    "    \n",
    "    return df"
   ],
   "metadata": {
    "collapsed": false,
    "ExecuteTime": {
     "end_time": "2024-04-26T03:06:46.798904300Z",
     "start_time": "2024-04-26T03:06:46.780114900Z"
    }
   },
   "id": "b59df6481f135170",
   "execution_count": 43
  },
  {
   "cell_type": "code",
   "outputs": [
    {
     "data": {
      "text/plain": "  Ticker       put_atm  put_90_pct  put_110_pct  call_atm  call_90_pct  \\\n0    XOM  4.285006e-01    0.286139     0.285431  0.000000     0.000000   \n1     FI  4.285252e-01    0.285991     0.285530  0.000000     0.000000   \n2   ATKR  4.285374e-01    0.285919     0.285578  0.000000     0.000000   \n3   VICI  6.756273e-17   -0.275511     0.000000  0.424426     0.275511   \n4   STLD  4.285176e-01    0.286037     0.285499  0.000000     0.000000   \n5   GOOG  4.285312e-01    0.285956     0.285553  0.000000     0.000000   \n6     BN  4.279293e-01    0.289567     0.283146  0.000000     0.000000   \n7   BKNG  4.285713e-01    0.285715     0.285714  0.000000     0.000000   \n8   SBUX -1.968560e-18   -0.284607     0.000000  0.428122     0.284607   \n9    NKE -5.725368e-16   -0.284796     0.000000  0.428198     0.284796   \n\n   call_110_pct  \n0     -0.285431  \n1     -0.285530  \n2     -0.285578  \n3      0.297831  \n4     -0.285499  \n5     -0.285553  \n6     -0.283146  \n7     -0.285714  \n8      0.287029  \n9      0.286805  ",
      "text/html": "<div>\n<style scoped>\n    .dataframe tbody tr th:only-of-type {\n        vertical-align: middle;\n    }\n\n    .dataframe tbody tr th {\n        vertical-align: top;\n    }\n\n    .dataframe thead th {\n        text-align: right;\n    }\n</style>\n<table border=\"1\" class=\"dataframe\">\n  <thead>\n    <tr style=\"text-align: right;\">\n      <th></th>\n      <th>Ticker</th>\n      <th>put_atm</th>\n      <th>put_90_pct</th>\n      <th>put_110_pct</th>\n      <th>call_atm</th>\n      <th>call_90_pct</th>\n      <th>call_110_pct</th>\n    </tr>\n  </thead>\n  <tbody>\n    <tr>\n      <th>0</th>\n      <td>XOM</td>\n      <td>4.285006e-01</td>\n      <td>0.286139</td>\n      <td>0.285431</td>\n      <td>0.000000</td>\n      <td>0.000000</td>\n      <td>-0.285431</td>\n    </tr>\n    <tr>\n      <th>1</th>\n      <td>FI</td>\n      <td>4.285252e-01</td>\n      <td>0.285991</td>\n      <td>0.285530</td>\n      <td>0.000000</td>\n      <td>0.000000</td>\n      <td>-0.285530</td>\n    </tr>\n    <tr>\n      <th>2</th>\n      <td>ATKR</td>\n      <td>4.285374e-01</td>\n      <td>0.285919</td>\n      <td>0.285578</td>\n      <td>0.000000</td>\n      <td>0.000000</td>\n      <td>-0.285578</td>\n    </tr>\n    <tr>\n      <th>3</th>\n      <td>VICI</td>\n      <td>6.756273e-17</td>\n      <td>-0.275511</td>\n      <td>0.000000</td>\n      <td>0.424426</td>\n      <td>0.275511</td>\n      <td>0.297831</td>\n    </tr>\n    <tr>\n      <th>4</th>\n      <td>STLD</td>\n      <td>4.285176e-01</td>\n      <td>0.286037</td>\n      <td>0.285499</td>\n      <td>0.000000</td>\n      <td>0.000000</td>\n      <td>-0.285499</td>\n    </tr>\n    <tr>\n      <th>5</th>\n      <td>GOOG</td>\n      <td>4.285312e-01</td>\n      <td>0.285956</td>\n      <td>0.285553</td>\n      <td>0.000000</td>\n      <td>0.000000</td>\n      <td>-0.285553</td>\n    </tr>\n    <tr>\n      <th>6</th>\n      <td>BN</td>\n      <td>4.279293e-01</td>\n      <td>0.289567</td>\n      <td>0.283146</td>\n      <td>0.000000</td>\n      <td>0.000000</td>\n      <td>-0.283146</td>\n    </tr>\n    <tr>\n      <th>7</th>\n      <td>BKNG</td>\n      <td>4.285713e-01</td>\n      <td>0.285715</td>\n      <td>0.285714</td>\n      <td>0.000000</td>\n      <td>0.000000</td>\n      <td>-0.285714</td>\n    </tr>\n    <tr>\n      <th>8</th>\n      <td>SBUX</td>\n      <td>-1.968560e-18</td>\n      <td>-0.284607</td>\n      <td>0.000000</td>\n      <td>0.428122</td>\n      <td>0.284607</td>\n      <td>0.287029</td>\n    </tr>\n    <tr>\n      <th>9</th>\n      <td>NKE</td>\n      <td>-5.725368e-16</td>\n      <td>-0.284796</td>\n      <td>0.000000</td>\n      <td>0.428198</td>\n      <td>0.284796</td>\n      <td>0.286805</td>\n    </tr>\n  </tbody>\n</table>\n</div>"
     },
     "execution_count": 44,
     "metadata": {},
     "output_type": "execute_result"
    },
    {
     "data": {
      "text/plain": "<Figure size 640x480 with 1 Axes>",
      "image/png": "[encoded data removed]"
     },
     "metadata": {},
     "output_type": "display_data"
    }
   ],
   "source": [
    "tickers = ['XOM','FI','ATKR','VICI','STLD','GOOG','BN','BKNG','SBUX','NKE']\n",
    "strike_pcts = [0.9, 1, 1.1]\n",
    "hedge_downside(stock_df, tickers, weight_dict, strike_pcts)"
   ],
   "metadata": {
    "collapsed": false,
    "ExecuteTime": {
     "end_time": "2024-04-26T03:06:47.663427400Z",
     "start_time": "2024-04-26T03:06:47.431357400Z"
    }
   },
   "id": "7c1c9ccf9cf79919",
   "execution_count": 44
  },
  {
   "cell_type": "code",
   "outputs": [],
   "source": [],
   "metadata": {
    "collapsed": false
   },
   "id": "2f6dfd18e18bbbba"
  }
 ],
 "metadata": {
  "kernelspec": {
   "display_name": "Python 3",
   "language": "python",
   "name": "python3"
  },
  "language_info": {
   "codemirror_mode": {
    "name": "ipython",
    "version": 2
   },
   "file_extension": ".py",
   "mimetype": "text/x-python",
   "name": "python",
   "nbconvert_exporter": "python",
   "pygments_lexer": "ipython2",
   "version": "2.7.6"
  }
 },
 "nbformat": 4,
 "nbformat_minor": 5
}
